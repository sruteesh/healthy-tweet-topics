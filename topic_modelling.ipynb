{
 "cells": [
  {
   "cell_type": "markdown",
   "metadata": {},
   "source": [
    "# Topic Modelling from Healthy Tweets\n",
    "\n",
    "Extract Topics from Health related tweets\n",
    "\n",
    "## Approach\n",
    "* Classic case of Unsupervised Learning\n",
    "    #### Input --> Embeddings --> Cluster (Topics) --> Top N Tweets (Topic Description) --> Keyword Extraction (Sub-Topics)\n",
    "\n",
    "## Data\n",
    "* Tweets from 16 different sources\n",
    "* Around 63k tweets in english\n",
    "\n",
    "## Preprocess\n",
    "* Remove non-ascii characters\n",
    "* Remove URLs\n",
    "* Extract Hashtags\n",
    "* Remove RT tags and owner information\n",
    "\n",
    "## Identify Topics using Hashtags\n",
    "* Since No information about the tweets is available, use hashtags to get rough idea on Topics of tweets\n",
    "\n",
    "## Baseline\n",
    "* Use the Standard LDA to extract topics \n",
    "* Used Gensim library\n",
    "\n",
    "## Clustering (Kmeans + Universal Embeddings)\n",
    "* Used sentence embeddings to encode the sentences\n",
    "    * Used Universal Sentence Encoder to get sentence embeddings\n",
    "* Used Kmeans Algorithm to Identify Tweet groups (topics)\n",
    "* Find the closest sentence to the Cluster center (Gives Info about the Topic)\n",
    "* Identify top n closest sentences to the Cluster center \n",
    "* Use these top n sentences to Extract Keywords \n",
    "\n",
    "## Textrank (Keyword Extraction)\n",
    "Use Textrank to get weight each keyword from the group of sentences which were identified earlier (closest to the center)\n",
    "\n",
    "## Learnings\n",
    "* There are lot of irrelevant tweets which corrupt the Topic group (Discard them for further analysis)\n",
    "    * Use distance from cluster center to discard irrelevant tweets\n",
    "    * Also outlier tweets (which do not have many similar tweets based on cosine distance between the sentence embeddings) can be discarded\n",
    "* Hashtags give good approximation about the topics of tweets\n",
    "\n",
    "## Improvements\n",
    "* Universal Embeddings were trained on generic texts, fine-tune them with domain specific texts and tweets like texts\n",
    "* Use Other Embedding techniques (ElMo vectors, skip thoughts etc..)\n",
    "* Extend Textrank to consider phrases (ngrams) as candidates\n",
    "* Model Topics as Seq2Seq problem where input is the tweet text and ouput being topic keywords\n",
    "\n"
   ]
  },
  {
   "cell_type": "markdown",
   "metadata": {},
   "source": [
    "# Code"
   ]
  },
  {
   "cell_type": "markdown",
   "metadata": {},
   "source": [
    "## Import Required Packages\n",
    "* tensorflow - Universal Sentence Encoders\n",
    "* sklearn - Kmeans and Distance Metrics\n",
    "* matplotlib - Plots"
   ]
  },
  {
   "cell_type": "code",
   "execution_count": 12,
   "metadata": {},
   "outputs": [],
   "source": [
    "import string\n",
    "import tensorflow as tf\n",
    "import tensorflow_hub as hub\n",
    "import os,re,numpy as np\n",
    "import matplotlib.pyplot as plt\n",
    "from collections import defaultdict\n",
    "from sklearn.cluster import KMeans\n",
    "from sklearn.metrics import pairwise_distances_argmin_min, pairwise_distances\n",
    "from collections import defaultdict, Counter"
   ]
  },
  {
   "cell_type": "markdown",
   "metadata": {},
   "source": [
    "## Download Universal Sentence Encoders"
   ]
  },
  {
   "cell_type": "code",
   "execution_count": 2,
   "metadata": {},
   "outputs": [
    {
     "name": "stdout",
     "output_type": "stream",
     "text": [
      "WARNING:tensorflow:From /data/docsapp_v1/sample_env/lib/python3.6/site-packages/tensorflow/python/ops/control_flow_ops.py:3632: colocate_with (from tensorflow.python.framework.ops) is deprecated and will be removed in a future version.\n",
      "Instructions for updating:\n",
      "Colocations handled automatically by placer.\n"
     ]
    },
    {
     "name": "stderr",
     "output_type": "stream",
     "text": [
      "W0409 19:33:44.904973 140454549600000 deprecation.py:323] From /data/docsapp_v1/sample_env/lib/python3.6/site-packages/tensorflow/python/ops/control_flow_ops.py:3632: colocate_with (from tensorflow.python.framework.ops) is deprecated and will be removed in a future version.\n",
      "Instructions for updating:\n",
      "Colocations handled automatically by placer.\n"
     ]
    }
   ],
   "source": [
    "module_url = \"https://tfhub.dev/google/universal-sentence-encoder/2\"\n",
    "embed = hub.Module(module_url)\n",
    "\n",
    "\n",
    "def get_encodings(sentences):\n",
    "    with tf.Session() as session:\n",
    "        session.run([tf.global_variables_initializer(), tf.tables_initializer()])\n",
    "        encodings = session.run(embed(sentences))\n",
    "    return encodings"
   ]
  },
  {
   "cell_type": "markdown",
   "metadata": {},
   "source": [
    "## Download and Process Tweets"
   ]
  },
  {
   "cell_type": "code",
   "execution_count": 3,
   "metadata": {},
   "outputs": [
    {
     "name": "stdout",
     "output_type": "stream",
     "text": [
      "bbchealth.txt\n",
      "cbchealth.txt\n",
      "cnnhealth.txt\n",
      "everydayhealth.txt\n",
      "foxnewshealth.txt\n",
      "gdnhealthcare.txt\n",
      "goodhealth.txt\n",
      "KaiserHealthNews.txt\n",
      "latimeshealth.txt\n",
      "msnhealthnews.txt\n",
      "NBChealth.txt\n",
      "nprhealth.txt\n",
      "nytimeshealth.txt\n",
      "reuters_health.txt\n",
      "usnewshealth.txt\n",
      "wsjhealth.txt\n"
     ]
    }
   ],
   "source": [
    "path = \"Health-Tweets\"\n",
    "all_data = []\n",
    "for _file in os.listdir(path):\n",
    "    print(_file)\n",
    "    with open(path+'/'+_file,'r',encoding='utf-8',errors='ignore') as fin:\n",
    "#         data = fin.readlines()\n",
    "        for line in fin:\n",
    "            try:\n",
    "                line = line.encode('utf-8').decode('utf-8')\n",
    "                all_data.append(line)\n",
    "            except Exception as e:\n",
    "                print(e)"
   ]
  },
  {
   "cell_type": "code",
   "execution_count": 4,
   "metadata": {},
   "outputs": [
    {
     "data": {
      "text/plain": [
       "16"
      ]
     },
     "execution_count": 4,
     "metadata": {},
     "output_type": "execute_result"
    }
   ],
   "source": [
    "len(os.listdir(path))"
   ]
  },
  {
   "cell_type": "code",
   "execution_count": 5,
   "metadata": {},
   "outputs": [],
   "source": [
    "tweets = [i.split('|')[-1] for i in all_data]"
   ]
  },
  {
   "cell_type": "code",
   "execution_count": 6,
   "metadata": {},
   "outputs": [
    {
     "data": {
      "text/plain": [
       "63327"
      ]
     },
     "execution_count": 6,
     "metadata": {},
     "output_type": "execute_result"
    }
   ],
   "source": [
    "len(tweets)"
   ]
  },
  {
   "cell_type": "code",
   "execution_count": 7,
   "metadata": {},
   "outputs": [
    {
     "data": {
      "text/plain": [
       "['Breast cancer risk test devised http://bbc.in/1CimpJF\\n',\n",
       " 'GP workload harming care - BMA poll http://bbc.in/1ChTBRv\\n',\n",
       " \"Short people's 'heart risk greater' http://bbc.in/1ChTANp\\n\",\n",
       " \"New approach against HIV 'promising' http://bbc.in/1E6jAjt\\n\",\n",
       " \"Coalition 'undermined NHS' - doctors http://bbc.in/1CnLwK7\\n\",\n",
       " 'Review of case against NHS manager http://bbc.in/1Ffj6ci\\n',\n",
       " \"VIDEO: 'All day is empty, what am I going to do?' http://bbc.in/1N7wSSz\\n\",\n",
       " \"VIDEO: 'Overhaul needed' for end-of-life care http://bbc.in/1CmrRu3\\n\",\n",
       " \"Care for dying 'needs overhaul' http://bbc.in/1FdSGrl\\n\",\n",
       " 'VIDEO: NHS: Labour and Tory key policies http://bbc.in/1Ci5eqD\\n']"
      ]
     },
     "execution_count": 7,
     "metadata": {},
     "output_type": "execute_result"
    }
   ],
   "source": [
    "tweets[:10]"
   ]
  },
  {
   "cell_type": "markdown",
   "metadata": {},
   "source": [
    "## Get Hashtags from tweets"
   ]
  },
  {
   "cell_type": "code",
   "execution_count": 8,
   "metadata": {},
   "outputs": [],
   "source": [
    "def get_hashtags(tweet):\n",
    "    return [i.lower() for i in re.findall(\"#(\\w+)\",tweet)]"
   ]
  },
  {
   "cell_type": "code",
   "execution_count": 9,
   "metadata": {},
   "outputs": [],
   "source": [
    "hashtags = [get_hashtags(tweet) for tweet in tweets]"
   ]
  },
  {
   "cell_type": "code",
   "execution_count": 10,
   "metadata": {},
   "outputs": [],
   "source": [
    "all_hashtags = sum(hashtags,[])"
   ]
  },
  {
   "cell_type": "code",
   "execution_count": 13,
   "metadata": {
    "scrolled": true
   },
   "outputs": [
    {
     "data": {
      "text/plain": [
       "[('healthtalk', 883),\n",
       " ('nhs', 769),\n",
       " ('ebola', 417),\n",
       " ('obamacare', 264),\n",
       " ('latfit', 262),\n",
       " ('getfit', 261),\n",
       " ('weightloss', 237),\n",
       " ('health', 234),\n",
       " ('fitness', 211),\n",
       " ('pharma', 210),\n",
       " ('cancer', 193),\n",
       " ('viewsfromthenhsfrontline', 193),\n",
       " ('recipes', 189),\n",
       " ('healthcare', 185),\n",
       " ('talknutrition', 176),\n",
       " ('recipe', 168),\n",
       " ('diet', 139),\n",
       " ('exercise', 135),\n",
       " ('beauty', 129),\n",
       " ('flu', 120),\n",
       " ('diabetes', 107),\n",
       " ('workout', 106),\n",
       " ('mentalhealth', 102),\n",
       " ('yoga', 100),\n",
       " ('aca', 97),\n",
       " ('sweepstakes', 86),\n",
       " ('healthy', 82),\n",
       " ('wellness', 82),\n",
       " ('recipeoftheday', 80),\n",
       " ('autism', 71),\n",
       " ('depression', 69),\n",
       " ('bestdiets', 68),\n",
       " ('measles', 65),\n",
       " ('healthtotalwellness', 64),\n",
       " ('win', 64),\n",
       " ('heart', 63),\n",
       " ('psoriasis', 63),\n",
       " ('obesity', 60),\n",
       " ('usntechchat', 60),\n",
       " ('breakfast', 59),\n",
       " ('allergies', 57),\n",
       " ('sleep', 57),\n",
       " ('hiv', 56),\n",
       " ('ebolaqanda', 51),\n",
       " ('humanfactor', 51),\n",
       " ('gdnhealthhustings', 51),\n",
       " ('cnnparents', 50),\n",
       " ('summer', 49),\n",
       " ('cnnallergies', 49),\n",
       " ('healthyeating', 49),\n",
       " ('prizes', 49),\n",
       " ('menshealth', 46),\n",
       " ('vegetarian', 45),\n",
       " ('medicaid', 45),\n",
       " ('nutrition', 44),\n",
       " ('stress', 43),\n",
       " ('vegan', 43),\n",
       " ('guardianlivenhs', 43),\n",
       " ('triwithme', 42),\n",
       " ('redheartchat', 42),\n",
       " ('scotus', 41),\n",
       " ('marijuana', 40),\n",
       " ('breastcancer', 39),\n",
       " ('askdrnancy', 38),\n",
       " ('worldcancerday', 37),\n",
       " ('sex', 36),\n",
       " ('running', 36),\n",
       " ('cnn10', 35),\n",
       " ('hearthealth', 35),\n",
       " ('slimswap', 35),\n",
       " ('askwell', 35),\n",
       " ('glutenfree', 34),\n",
       " ('fda', 34),\n",
       " ('meningitis', 33),\n",
       " ('california', 32),\n",
       " ('calories', 32),\n",
       " ('alzheimers', 31),\n",
       " ('pregnancy', 31),\n",
       " ('ta', 31),\n",
       " ('dwts', 31),\n",
       " ('quickpick', 31),\n",
       " ('workouts', 30),\n",
       " ('allergy', 29),\n",
       " ('asksanjay', 29),\n",
       " ('dayinthelife', 29),\n",
       " ('medicare', 28),\n",
       " ('t', 28),\n",
       " ('weight', 27),\n",
       " ('holiday', 27),\n",
       " ('valentinesday', 27),\n",
       " ('pizza', 27),\n",
       " ('5yfv', 26),\n",
       " ('medwomen', 26),\n",
       " ('healthtips', 26),\n",
       " ('mers', 25),\n",
       " ('ntsummit', 25),\n",
       " ('tal', 25),\n",
       " ('meatlessmonday', 25),\n",
       " ('beingmortal', 25),\n",
       " ('vaccine', 24)]"
      ]
     },
     "execution_count": 13,
     "metadata": {},
     "output_type": "execute_result"
    }
   ],
   "source": [
    "Counter(all_hashtags).most_common(100)"
   ]
  },
  {
   "cell_type": "markdown",
   "metadata": {},
   "source": [
    "## Top Topics Extracted from Hashtags"
   ]
  },
  {
   "cell_type": "markdown",
   "metadata": {},
   "source": [
    "* Health Tips\n",
    "* Weightloss Ads\n",
    "* Excercise and Fitness\n",
    "* Obamacare\n",
    "* Pharma\n",
    "* Vaccination\n",
    "* Healthy Recipies\n",
    "* Nutrition\n",
    "* Diet\n",
    "* Diseases\n",
    "    * Depression\n",
    "    * Autism\n",
    "    * Allergies\n",
    "    * BreastCancer\n",
    "    * Alzheimers\n",
    "    * Meningitis\n",
    "    * Ebola\n"
   ]
  },
  {
   "cell_type": "markdown",
   "metadata": {},
   "source": [
    "## Pre-Processing Tweets "
   ]
  },
  {
   "cell_type": "code",
   "execution_count": 14,
   "metadata": {},
   "outputs": [],
   "source": [
    "# clean tweet\n",
    "def clean_tweet(tweet): \n",
    "    ''' \n",
    "    Utility function to clean tweet text by removing links, special characters \n",
    "    using simple regex statements. \n",
    "    '''\n",
    "    cleaned_tweet = re.sub(\"((RT)* @[A-Za-z0-9]+)|([^0-9A-Za-z '\\t])|(\\w+:\\/\\/\\S+)|(\\w+:)\", \" \", tweet)\n",
    "    cleaned_tweet = re.sub(\"\\s+\",\" \",cleaned_tweet).strip()\n",
    "    return cleaned_tweet\n"
   ]
  },
  {
   "cell_type": "code",
   "execution_count": 15,
   "metadata": {},
   "outputs": [
    {
     "data": {
      "text/plain": [
       "\"'All day is empty what am I going to do '\""
      ]
     },
     "execution_count": 15,
     "metadata": {},
     "output_type": "execute_result"
    }
   ],
   "source": [
    "clean_tweet(\"\"\" \"VIDEO: 'All day is empty, what am I going to do?' http://bbc.in/1N7wSSz\\n\",\"\"\")"
   ]
  },
  {
   "cell_type": "code",
   "execution_count": 16,
   "metadata": {},
   "outputs": [],
   "source": [
    "cleaned_tweets = [clean_tweet(i) for i in tweets]"
   ]
  },
  {
   "cell_type": "code",
   "execution_count": 17,
   "metadata": {},
   "outputs": [
    {
     "data": {
      "text/plain": [
       "(63327, 63327)"
      ]
     },
     "execution_count": 17,
     "metadata": {},
     "output_type": "execute_result"
    }
   ],
   "source": [
    "len(tweets),  len(cleaned_tweets)"
   ]
  },
  {
   "cell_type": "code",
   "execution_count": 18,
   "metadata": {
    "scrolled": true
   },
   "outputs": [
    {
     "data": {
      "text/plain": [
       "['Breast cancer risk test devised',\n",
       " 'GP workload harming care BMA poll',\n",
       " \"Short people's 'heart risk greater'\",\n",
       " \"New approach against HIV 'promising'\",\n",
       " \"Coalition 'undermined NHS' doctors\",\n",
       " 'Review of case against NHS manager',\n",
       " \"'All day is empty what am I going to do '\",\n",
       " \"'Overhaul needed' for end of life care\",\n",
       " \"Care for dying 'needs overhaul'\",\n",
       " 'Labour and Tory key policies']"
      ]
     },
     "execution_count": 18,
     "metadata": {},
     "output_type": "execute_result"
    }
   ],
   "source": [
    "cleaned_tweets[:10]"
   ]
  },
  {
   "cell_type": "code",
   "execution_count": 19,
   "metadata": {
    "scrolled": true
   },
   "outputs": [
    {
     "data": {
      "text/plain": [
       "['Breast cancer risk test devised http://bbc.in/1CimpJF\\n',\n",
       " 'GP workload harming care - BMA poll http://bbc.in/1ChTBRv\\n',\n",
       " \"Short people's 'heart risk greater' http://bbc.in/1ChTANp\\n\",\n",
       " \"New approach against HIV 'promising' http://bbc.in/1E6jAjt\\n\",\n",
       " \"Coalition 'undermined NHS' - doctors http://bbc.in/1CnLwK7\\n\",\n",
       " 'Review of case against NHS manager http://bbc.in/1Ffj6ci\\n',\n",
       " \"VIDEO: 'All day is empty, what am I going to do?' http://bbc.in/1N7wSSz\\n\",\n",
       " \"VIDEO: 'Overhaul needed' for end-of-life care http://bbc.in/1CmrRu3\\n\",\n",
       " \"Care for dying 'needs overhaul' http://bbc.in/1FdSGrl\\n\",\n",
       " 'VIDEO: NHS: Labour and Tory key policies http://bbc.in/1Ci5eqD\\n']"
      ]
     },
     "execution_count": 19,
     "metadata": {},
     "output_type": "execute_result"
    }
   ],
   "source": [
    "tweets[:10]"
   ]
  },
  {
   "cell_type": "code",
   "execution_count": 20,
   "metadata": {},
   "outputs": [],
   "source": [
    "sentences = list(set(cleaned_tweets))"
   ]
  },
  {
   "cell_type": "code",
   "execution_count": 21,
   "metadata": {},
   "outputs": [
    {
     "data": {
      "text/plain": [
       "(63327, 59951)"
      ]
     },
     "execution_count": 21,
     "metadata": {},
     "output_type": "execute_result"
    }
   ],
   "source": [
    "len(cleaned_tweets), len(sentences)"
   ]
  },
  {
   "cell_type": "markdown",
   "metadata": {},
   "source": [
    "## Encode Tweets using Universal Sentence Encoder"
   ]
  },
  {
   "cell_type": "code",
   "execution_count": null,
   "metadata": {},
   "outputs": [
    {
     "name": "stdout",
     "output_type": "stream",
     "text": [
      "Encoding sentences using Universal Sentence Encoder...\n",
      "INFO:tensorflow:Saver not created because there are no variables in the graph to restore\n"
     ]
    },
    {
     "name": "stderr",
     "output_type": "stream",
     "text": [
      "I0409 19:35:10.211257 140454549600000 saver.py:1483] Saver not created because there are no variables in the graph to restore\n"
     ]
    }
   ],
   "source": [
    "print('Encoding sentences using Universal Sentence Encoder...')\n",
    "enc_article = get_encodings(sentences)\n",
    "print('Encoding Done...')"
   ]
  },
  {
   "cell_type": "code",
   "execution_count": null,
   "metadata": {},
   "outputs": [],
   "source": [
    "from sklearn.manifold import TSNE"
   ]
  },
  {
   "cell_type": "code",
   "execution_count": null,
   "metadata": {},
   "outputs": [],
   "source": [
    "tsne = TSNE(n_components=2, random_state=0)\n",
    "np.set_printoptions(suppress=True)\n",
    "Y = tsne.fit_transform(enc_article[:1000])"
   ]
  },
  {
   "cell_type": "code",
   "execution_count": null,
   "metadata": {},
   "outputs": [],
   "source": [
    "x_coords = Y[:, 0]\n",
    "y_coords = Y[:, 1]\n",
    "# display scatter plot\n",
    "plt.scatter(x_coords, y_coords)\n",
    "plt.xlim(x_coords.min()+0.00005, x_coords.max()+0.00005)\n",
    "plt.ylim(y_coords.min()+0.00005, y_coords.max()+0.00005)\n",
    "plt.show()"
   ]
  },
  {
   "cell_type": "markdown",
   "metadata": {},
   "source": [
    "The plot shows lots of irrelevant tweets masking the Clusters, Discard them"
   ]
  },
  {
   "cell_type": "markdown",
   "metadata": {},
   "source": [
    "## Find Optimal Number of Clusters using Silloute Analysis"
   ]
  },
  {
   "cell_type": "code",
   "execution_count": 29,
   "metadata": {},
   "outputs": [
    {
     "name": "stdout",
     "output_type": "stream",
     "text": [
      "5\n",
      "15\n",
      "25\n",
      "35\n",
      "45\n",
      "55\n",
      "65\n",
      "75\n",
      "85\n",
      "95\n"
     ]
    }
   ],
   "source": [
    "Sum_of_squared_distances = []\n",
    "K = list(range(5,100,10))\n",
    "for k in K:\n",
    "    print(k)\n",
    "    km = KMeans(n_clusters=k)\n",
    "    km = km.fit(enc_article)\n",
    "    Sum_of_squared_distances.append(km.inertia_)"
   ]
  },
  {
   "cell_type": "code",
   "execution_count": 30,
   "metadata": {},
   "outputs": [
    {
     "data": {
      "image/png": "[encoded data removed]",
      "text/plain": [
       "<Figure size 432x288 with 1 Axes>"
      ]
     },
     "metadata": {
      "needs_background": "light"
     },
     "output_type": "display_data"
    }
   ],
   "source": [
    "plt.plot(K, Sum_of_squared_distances, 'bx-')\n",
    "plt.xlabel('k')\n",
    "plt.ylabel('Sum_of_squared_distances')\n",
    "plt.title('Elbow Method For Optimal k')\n",
    "plt.show()"
   ]
  },
  {
   "cell_type": "markdown",
   "metadata": {},
   "source": [
    "## Hierarchical Clustering"
   ]
  },
  {
   "cell_type": "code",
   "execution_count": null,
   "metadata": {
    "scrolled": true
   },
   "outputs": [],
   "source": [
    "# from scipy.cluster.hierarchy import dendrogram, linkage\n",
    "# # calculate full dendrogram\n",
    "# plt.figure(figsize=(25, 10))\n",
    "# plt.title('Hierarchical Clustering Dendrogram')\n",
    "# plt.xlabel('sample index')\n",
    "# plt.ylabel('distance')\n",
    "# dendrogram(\n",
    "#     linkage(enc_article,method='ward'),\n",
    "#     truncate_mode='lastp',  # show only the last p merged clusters\n",
    "#     p=12,  # show only the last p merged clusters\n",
    "#     show_leaf_counts=False,  # otherwise numbers in brackets are counts\n",
    "#     leaf_rotation=90.,\n",
    "#     leaf_font_size=12.,\n",
    "#     show_contracted=True,  # to get a distribution impression in truncated branches\n",
    "# )\n",
    "# plt.show()"
   ]
  },
  {
   "cell_type": "code",
   "execution_count": null,
   "metadata": {},
   "outputs": [],
   "source": [
    "# import scipy.cluster.hierarchy as shc\n",
    "\n",
    "# plt.figure(figsize=(10, 7))  \n",
    "# plt.title(\"Customer Dendograms\")  \n",
    "# dend = shc.dendrogram(shc.linkage(enc_article, method='ward'))  "
   ]
  },
  {
   "cell_type": "markdown",
   "metadata": {},
   "source": [
    "## Kmeans Clustering"
   ]
  },
  {
   "cell_type": "code",
   "execution_count": 49,
   "metadata": {},
   "outputs": [],
   "source": [
    "# n_clusters = int(np.ceil(len(enc_article)**0.5))\n",
    "n_clusters = 50\n",
    "kmeans = KMeans(n_clusters=n_clusters, random_state=0)\n",
    "kmeans = kmeans.fit(enc_article)"
   ]
  },
  {
   "cell_type": "markdown",
   "metadata": {},
   "source": [
    "## Tweets Closest to CLuster Centers (Proabable Topics)"
   ]
  },
  {
   "cell_type": "code",
   "execution_count": 50,
   "metadata": {},
   "outputs": [],
   "source": [
    "closest = []\n",
    "closest, _ = pairwise_distances_argmin_min(kmeans.cluster_centers_,\\\n",
    "                                           enc_article)"
   ]
  },
  {
   "cell_type": "code",
   "execution_count": 83,
   "metadata": {
    "scrolled": true
   },
   "outputs": [
    {
     "name": "stdout",
     "output_type": "stream",
     "text": [
      "0 USDA report says pesticide residues in food nothing to fear\n",
      "\n",
      "1 High Proportion of Health Plan Enrollees Paid Premiums\n",
      "\n",
      "2 Surgeon Experience Matters in Neck Artery\n",
      "\n",
      "3 FDA approves Truvada for preventing HIV infection\n",
      "\n",
      "4 FDA puts partial hold on CytRx cancer drug trials\n",
      "\n",
      "5 Local Uninsured Programs Face Uncertain Times As Obamacare Ramps Up\n",
      "\n",
      "6 Burpees are one of the BEST body weight exercise to get in shape Check out these 3 challenging\n",
      "\n",
      "7 RT A look at the gluten free craze Some foods have few vitamins high sugar And health benefits beyond celiac unproven\n",
      "\n",
      "8 New Drug Targets Underlying Cause of Cystic\n",
      "\n",
      "9 Behavior therapy may help prevent depression over vision loss\n",
      "\n",
      "10 NYC Ebola Patient Declared Free Of Virus Will Be Discharged From Hospital\n",
      "\n",
      "11 Idea of Healthy Obesity Is Tested\n",
      "\n",
      "12 IVF Baby Births From Fertility Procedure Hit New High\n",
      "\n",
      "13 Recipe of the Day Grilled Zucchini Roll Ups With Herbs and Cheese snack recipe\n",
      "\n",
      "14 Trouble sleeping Let these sleep friendly foods act as your natural insomnia aid\n",
      "\n",
      "15 Antibiotics Don t Help Most Sinus Infections Study\n",
      "\n",
      "16 The New Old Age In Coming Decades Fewer Caregivers\n",
      "\n",
      "17 Hang on to your happiness by avoiding these 12 worst habits for your mental\n",
      "\n",
      "18 Today s May Cause\n",
      "\n",
      "19 Popular Big enabling the future of healthcare NHS\n",
      "\n",
      "20 Biking to The road to fitness or an accident waiting to happen Take a tour of these 7 cities to find out\n",
      "\n",
      "21 Reinventing the brain is closer than you think\n",
      "\n",
      "22 Our BeingMortal chat with and of has started Join us at to participate\n",
      "\n",
      "23 Losing weight starts with making these 17 fixes to your diet weightloss\n",
      "\n",
      "24 Beauty Must 10 Ways to Use Bio Oil beauty skincare\n",
      "\n",
      "25 Mixing Alcohol With Diet Soda May Make You Drunker\n",
      "\n",
      "26 The Divide Over Involuntary Mental Health Treatment\n",
      "\n",
      "27 Philippines recalls peacekeepers from Liberia over Ebola threat\n",
      "\n",
      "28 Cancer Patients at Risk for Serious Blood\n",
      "\n",
      "29 Apnea Treatment Might Reduce Signs of Heart Disease\n",
      "\n",
      "30 Texas Legislature Weighing Proposals To Limit Abortions including stricter clinic\n",
      "\n",
      "31 Our gorgeous April cover model Brooke Burke Charvet shares her secrets to living the healthy life\n",
      "\n",
      "32 Environmental Toxins Linked to Hardening of\n",
      "\n",
      "33 RT A14 Even better sensors stylish devices cool apps to manage wellness work and health with actionable insights USNTechC\n",
      "\n",
      "34 RT Q4 Snacking can be good or bad for weight loss depending on how and why you snack and what you reach for Ta\n",
      "\n",
      "35 RT TEDMED Health professionals convene to discuss the future of health and medicine Watch\n",
      "\n",
      "36 Ebola Outbreak Erodes Recent Advances in West Africa\n",
      "\n",
      "37 Manmade DNA may revolutionise medicine\n",
      "\n",
      "38 RT Medical A New WSJ interactive about pharma device company payments to\n",
      "\n",
      "39 Yum 27 healthy ways to enjoy\n",
      "\n",
      "40 Vaccine Cut Flu Strain Linked to Meningitis\n",
      "\n",
      "41 RT Pharmalot Were Reading About AstraZeneca and More\n",
      "\n",
      "42 Concussion in young athletes need to be taken seriously\n",
      "\n",
      "43 Federal health officials worry that e cigarettes will lure teens into smoking real cigarettes\n",
      "\n",
      "44 Democrats Shrug Off Delays and Affirm Support for Health Law\n",
      "\n",
      "45 Disabled baby denied heart transplant investigates in this heart wrenching story EmpoweredPatient\n",
      "\n",
      "46 More U S Doctors Are Urging Patients to\n",
      "\n",
      "47 Federal Judge Throws Out Lawsuit Over Hospital Observation Care\n",
      "\n",
      "48 Women have fewer orgasms during hookups than men\n",
      "\n",
      "49 Parent Training May Help Kids With Autism Behave\n",
      "\n"
     ]
    }
   ],
   "source": [
    "for ind,i in enumerate(closest):\n",
    "    print(ind, sentences[i])\n",
    "    print()"
   ]
  },
  {
   "cell_type": "markdown",
   "metadata": {},
   "source": [
    "## Probable Topics Extracted from Tweets using Kmeans\n",
    "1. Updates from USDA\n",
    "2. \n",
    "3. Diseases - HIV\n",
    "4. Diseases - Cancer\n",
    "5. ObamaCare\n",
    "6. Exercise and Fitness\n",
    "7. Nutrition and Diet\n",
    "8. Diseases - Cystic\n",
    "9. Diseases - Depression\n",
    "10. Diseases - Ebola\n",
    "<br>...\n",
    "<br>...\n",
    "<br>\n",
    "Health Tips, Weightloss ...."
   ]
  },
  {
   "cell_type": "markdown",
   "metadata": {},
   "source": [
    "## Explore Topics (Similar tweets closest to Cluster Center)"
   ]
  },
  {
   "cell_type": "code",
   "execution_count": 107,
   "metadata": {},
   "outputs": [],
   "source": [
    "closest_tweets = pairwise_distances(kmeans.cluster_centers_,enc_article)"
   ]
  },
  {
   "cell_type": "markdown",
   "metadata": {},
   "source": [
    "### Sample Topic -  Weight Loss (Tweets related to Weightloss grouped by Kmeans)"
   ]
  },
  {
   "cell_type": "code",
   "execution_count": 110,
   "metadata": {},
   "outputs": [
    {
     "name": "stdout",
     "output_type": "stream",
     "text": [
      "Losing weight starts with making these 17 fixes to your diet weightloss\n",
      "4 Ways to Eat More to Weigh Less Great tips from diet weightloss\n",
      "How I Detoxed Using a 9 Day The Conclusion diet weightloss\n",
      "If you re on a diet these 10 foods can help you feel fuller longer weightloss\n",
      "Your New Weight Loss Drive Less NYR diet weightloss\n",
      "Attention These 25 fattening foods will seriously wreck your weight loss\n",
      "Want to Lose Weight Here is the 1 Habit You Need to Break dieting weightloss\n",
      "5 Ways to Keep Exercising During the Holidays diet weight loss\n",
      "Crank up your metabolism with these 30 fast fat weightloss\n",
      "These tiny tweaks to your lifestyle could help you lose weight fast\n",
      "Don t Want to Overeat Stop Multitasking at Mealtime diet weightloss\n",
      "Feel full tricks to help you lose weight fast\n",
      "One simple way to boost your weight loss\n",
      "16 ways to lose weight weightloss\n",
      "Secrets to Tried and true weight loss advice from diet\n",
      "Cutting Back On Carbs Not Fat May Lead To More Weight Loss\n",
      "Trying to Lose Weight These Gadgets Will Help diet weightloss\n",
      "Weight loss Fads not as helpful as exercising eating less\n",
      "Want to lose weight Do these 9 things in your kitchen Great tips from diet weightloss\n",
      "Have a busy week ahead of you No problem Here are some tips to Lose Weight With a Busy Schedule weightloss\n"
     ]
    }
   ],
   "source": [
    "sample_text= ''\n",
    "for i in np.argsort(closest_tweets[23])[:20]:\n",
    "    print(sentences[i])\n",
    "    sample_text +=sentences[i] +'. '"
   ]
  },
  {
   "cell_type": "markdown",
   "metadata": {},
   "source": [
    "## Extract Keywords about Topics (Sub-Topics)"
   ]
  },
  {
   "cell_type": "code",
   "execution_count": 112,
   "metadata": {},
   "outputs": [],
   "source": [
    "from textrank import *\n",
    "tr4w = TextRank4Keyword() "
   ]
  },
  {
   "cell_type": "code",
   "execution_count": 113,
   "metadata": {},
   "outputs": [],
   "source": [
    "def get_keywords(text,num=20):\n",
    "    tr4w.analyze(text, candidate_pos = ['NOUN', 'PROPN'], window_size=4, lower=True) \n",
    "    return tr4w.get_keywords(num) "
   ]
  },
  {
   "cell_type": "code",
   "execution_count": 114,
   "metadata": {},
   "outputs": [
    {
     "name": "stdout",
     "output_type": "stream",
     "text": [
      "weight - 3.434308113117041\n",
      "diet - 2.9792683055700913\n",
      "weightloss - 2.5492048403976972\n",
      "loss - 2.0484737521076806\n",
      "tips - 1.3346027050991336\n",
      "overeat - 1.1324789173789174\n",
      "mealtime - 1.1324789173789174\n",
      "ways - 1.0844386214314785\n",
      "kitchen - 0.9042094256933543\n",
      "foods - 0.8787948754288039\n",
      "advice - 0.8787948754288039\n",
      "holidays - 0.8529025677364962\n",
      "fixes - 0.832908194517123\n",
      "t - 0.828393666056166\n",
      "schedule - 0.8172620341298913\n",
      "new - 0.7322178760393044\n",
      "drive - 0.7322178760393044\n",
      "carbs - 0.7322178760393044\n",
      "fat - 0.7322178760393044\n",
      "crank - 0.7045283068783068\n",
      "metabolism - 0.7045283068783068\n",
      "fattening - 0.7040596800686085\n"
     ]
    }
   ],
   "source": [
    "get_keywords(sample_text)"
   ]
  },
  {
   "cell_type": "markdown",
   "metadata": {},
   "source": [
    "## Baseline \n",
    "## LDA using Gensim"
   ]
  },
  {
   "cell_type": "markdown",
   "metadata": {},
   "source": [
    "## Import Required packages"
   ]
  },
  {
   "cell_type": "code",
   "execution_count": 120,
   "metadata": {},
   "outputs": [],
   "source": [
    "import gensim\n",
    "from gensim.utils import simple_preprocess\n",
    "from gensim.parsing.preprocessing import STOPWORDS\n",
    "from nltk.stem import WordNetLemmatizer, SnowballStemmer\n",
    "from nltk.stem.porter import *\n",
    "import numpy as np\n",
    "np.random.seed(400)"
   ]
  },
  {
   "cell_type": "code",
   "execution_count": 121,
   "metadata": {},
   "outputs": [
    {
     "name": "stderr",
     "output_type": "stream",
     "text": [
      "[nltk_data] Downloading package wordnet to /home/ubuntu/nltk_data...\n",
      "[nltk_data]   Package wordnet is already up-to-date!\n"
     ]
    },
    {
     "data": {
      "text/plain": [
       "True"
      ]
     },
     "execution_count": 121,
     "metadata": {},
     "output_type": "execute_result"
    }
   ],
   "source": [
    "import nltk\n",
    "nltk.download('wordnet')"
   ]
  },
  {
   "cell_type": "markdown",
   "metadata": {},
   "source": [
    "## Pre-Process Tweets"
   ]
  },
  {
   "cell_type": "code",
   "execution_count": 125,
   "metadata": {},
   "outputs": [],
   "source": [
    "def lemmatize_stemming(text):\n",
    "#     return stemmer.stem(WordNetLemmatizer().lemmatize(text, pos='v'))\n",
    "    return WordNetLemmatizer().lemmatize(text, pos='v')\n",
    "\n",
    "# Tokenize and lemmatize\n",
    "def preprocess(text):\n",
    "    result=[]\n",
    "    for token in gensim.utils.simple_preprocess(text) :\n",
    "        if token not in gensim.parsing.preprocessing.STOPWORDS and len(token) > 3:\n",
    "            result.append(lemmatize_stemming(token))\n",
    "            \n",
    "    return result"
   ]
  },
  {
   "cell_type": "code",
   "execution_count": 126,
   "metadata": {},
   "outputs": [],
   "source": [
    "processed_tweets = []\n",
    "for tweet in cleaned_tweets:\n",
    "    processed_tweets.append(preprocess(tweet))"
   ]
  },
  {
   "cell_type": "markdown",
   "metadata": {},
   "source": [
    "## Create Gensim Dictionary (word, num_times(word))"
   ]
  },
  {
   "cell_type": "code",
   "execution_count": 127,
   "metadata": {},
   "outputs": [],
   "source": [
    "dictionary = gensim.corpora.Dictionary(processed_tweets)"
   ]
  },
  {
   "cell_type": "code",
   "execution_count": 129,
   "metadata": {},
   "outputs": [
    {
     "data": {
      "text/plain": [
       "[['breast', 'cancer', 'risk', 'test', 'devise'],\n",
       " ['workload', 'harm', 'care', 'poll']]"
      ]
     },
     "execution_count": 129,
     "metadata": {},
     "output_type": "execute_result"
    }
   ],
   "source": [
    "processed_tweets[:2]"
   ]
  },
  {
   "cell_type": "code",
   "execution_count": 130,
   "metadata": {},
   "outputs": [
    {
     "name": "stdout",
     "output_type": "stream",
     "text": [
      "0 breast\n",
      "1 cancer\n",
      "2 devise\n",
      "3 risk\n",
      "4 test\n",
      "5 care\n",
      "6 harm\n",
      "7 poll\n",
      "8 workload\n",
      "9 greater\n",
      "10 heart\n"
     ]
    }
   ],
   "source": [
    "count = 0\n",
    "for k, v in dictionary.iteritems():\n",
    "    print(k, v)\n",
    "    count += 1\n",
    "    if count > 10:\n",
    "        break"
   ]
  },
  {
   "cell_type": "code",
   "execution_count": 131,
   "metadata": {},
   "outputs": [],
   "source": [
    "dictionary.filter_extremes(no_below=15, no_above=0.1, keep_n= 100000)"
   ]
  },
  {
   "cell_type": "code",
   "execution_count": 133,
   "metadata": {},
   "outputs": [],
   "source": [
    "bow_corpus = [dictionary.doc2bow(tweet) for tweet in processed_tweets]"
   ]
  },
  {
   "cell_type": "code",
   "execution_count": 135,
   "metadata": {},
   "outputs": [],
   "source": [
    "lda_model =  gensim.models.LdaMulticore(bow_corpus, \n",
    "                                   num_topics = 50, \n",
    "                                   id2word = dictionary,                                    \n",
    "                                   passes = 10,\n",
    "                                   workers = 5)"
   ]
  },
  {
   "cell_type": "markdown",
   "metadata": {},
   "source": [
    "## Topic Keywords"
   ]
  },
  {
   "cell_type": "code",
   "execution_count": 136,
   "metadata": {},
   "outputs": [
    {
     "name": "stdout",
     "output_type": "stream",
     "text": [
      "Topic: 0 \n",
      "Words: 0.095*\"diet\" + 0.085*\"best\" + 0.068*\"share\" + 0.067*\"loss\" + 0.052*\"weight\" + 0.038*\"hear\" + 0.029*\"wait\" + 0.029*\"result\" + 0.022*\"list\" + 0.021*\"pack\"\n",
      "\n",
      "\n",
      "Topic: 1 \n",
      "Words: 0.132*\"women\" + 0.076*\"high\" + 0.074*\"diabetes\" + 0.070*\"school\" + 0.054*\"scientists\" + 0.040*\"group\" + 0.032*\"type\" + 0.031*\"drive\" + 0.028*\"risk\" + 0.025*\"pregnant\"\n",
      "\n",
      "\n",
      "Topic: 2 \n",
      "Words: 0.153*\"obamacare\" + 0.147*\"look\" + 0.035*\"reach\" + 0.031*\"expect\" + 0.024*\"pick\" + 0.022*\"short\" + 0.019*\"expose\" + 0.019*\"goals\" + 0.019*\"secret\" + 0.018*\"agree\"\n",
      "\n",
      "\n",
      "Topic: 3 \n",
      "Words: 0.058*\"problems\" + 0.055*\"abortion\" + 0.042*\"week\" + 0.032*\"consider\" + 0.027*\"solve\" + 0.027*\"couple\" + 0.027*\"allergy\" + 0.025*\"options\" + 0.023*\"piece\" + 0.021*\"ahead\"\n",
      "\n",
      "\n",
      "Topic: 4 \n",
      "Words: 0.100*\"go\" + 0.093*\"parent\" + 0.066*\"kid\" + 0.048*\"child\" + 0.044*\"hard\" + 0.028*\"milk\" + 0.028*\"travel\" + 0.025*\"pass\" + 0.021*\"shift\" + 0.019*\"progress\"\n",
      "\n",
      "\n",
      "Topic: 5 \n",
      "Words: 0.096*\"think\" + 0.066*\"read\" + 0.049*\"support\" + 0.043*\"weekend\" + 0.038*\"great\" + 0.031*\"york\" + 0.030*\"tweet\" + 0.030*\"real\" + 0.028*\"problem\" + 0.024*\"lift\"\n",
      "\n",
      "\n",
      "Topic: 6 \n",
      "Words: 0.152*\"state\" + 0.092*\"exchange\" + 0.036*\"track\" + 0.026*\"hurt\" + 0.026*\"maybe\" + 0.026*\"products\" + 0.025*\"friends\" + 0.025*\"launch\" + 0.023*\"wellness\" + 0.022*\"practice\"\n",
      "\n",
      "\n",
      "Topic: 7 \n",
      "Words: 0.095*\"drug\" + 0.082*\"vaccine\" + 0.071*\"children\" + 0.068*\"show\" + 0.031*\"safety\" + 0.031*\"trial\" + 0.030*\"promise\" + 0.028*\"experimental\" + 0.028*\"fail\" + 0.027*\"effect\"\n",
      "\n",
      "\n",
      "Topic: 8 \n",
      "Words: 0.162*\"people\" + 0.090*\"drink\" + 0.084*\"love\" + 0.047*\"stroke\" + 0.038*\"age\" + 0.033*\"water\" + 0.031*\"disorder\" + 0.027*\"away\" + 0.025*\"alcohol\" + 0.020*\"abuse\"\n",
      "\n",
      "\n",
      "Topic: 9 \n",
      "Words: 0.103*\"die\" + 0.089*\"talk\" + 0.033*\"officials\" + 0.028*\"america\" + 0.026*\"line\" + 0.025*\"college\" + 0.025*\"recommend\" + 0.025*\"victims\" + 0.024*\"amid\" + 0.023*\"novartis\"\n",
      "\n",
      "\n",
      "Topic: 10 \n",
      "Words: 0.121*\"exercise\" + 0.067*\"save\" + 0.044*\"depression\" + 0.034*\"run\" + 0.033*\"program\" + 0.031*\"money\" + 0.030*\"gain\" + 0.028*\"help\" + 0.027*\"focus\" + 0.025*\"power\"\n",
      "\n",
      "\n",
      "Topic: 11 \n",
      "Words: 0.143*\"today\" + 0.074*\"healthtalk\" + 0.067*\"join\" + 0.057*\"thank\" + 0.032*\"bring\" + 0.030*\"latest\" + 0.029*\"chat\" + 0.027*\"enrollment\" + 0.026*\"worry\" + 0.020*\"getfit\"\n",
      "\n",
      "\n",
      "Topic: 12 \n",
      "Words: 0.116*\"test\" + 0.065*\"blood\" + 0.053*\"early\" + 0.036*\"pressure\" + 0.031*\"debate\" + 0.028*\"hepatitis\" + 0.025*\"ease\" + 0.024*\"symptoms\" + 0.022*\"india\" + 0.022*\"drug\"\n",
      "\n",
      "\n",
      "Topic: 13 \n",
      "Words: 0.078*\"ebola\" + 0.075*\"outbreak\" + 0.063*\"virus\" + 0.049*\"spread\" + 0.049*\"africa\" + 0.043*\"west\" + 0.029*\"deadly\" + 0.026*\"measles\" + 0.025*\"mers\" + 0.022*\"case\"\n",
      "\n",
      "\n",
      "Topic: 14 \n",
      "Words: 0.085*\"raise\" + 0.049*\"increase\" + 0.045*\"risk\" + 0.044*\"cancer\" + 0.031*\"protein\" + 0.026*\"seniors\" + 0.025*\"genes\" + 0.023*\"diagnosis\" + 0.022*\"clinical\" + 0.019*\"star\"\n",
      "\n",
      "\n",
      "Topic: 15 \n",
      "Words: 0.067*\"benefit\" + 0.064*\"medicaid\" + 0.058*\"years\" + 0.047*\"teens\" + 0.044*\"turn\" + 0.041*\"work\" + 0.039*\"price\" + 0.038*\"sell\" + 0.031*\"simple\" + 0.028*\"fast\"\n",
      "\n",
      "\n",
      "Topic: 16 \n",
      "Words: 0.125*\"ways\" + 0.095*\"question\" + 0.059*\"answer\" + 0.057*\"easy\" + 0.035*\"beauty\" + 0.029*\"billion\" + 0.028*\"cells\" + 0.028*\"expert\" + 0.026*\"avoid\" + 0.023*\"fresh\"\n",
      "\n",
      "\n",
      "Topic: 17 \n",
      "Words: 0.059*\"court\" + 0.052*\"case\" + 0.047*\"sign\" + 0.043*\"grow\" + 0.037*\"illness\" + 0.036*\"cut\" + 0.035*\"aid\" + 0.033*\"rate\" + 0.033*\"kidney\" + 0.029*\"suicide\"\n",
      "\n",
      "\n",
      "Topic: 18 \n",
      "Words: 0.142*\"healthy\" + 0.069*\"recipes\" + 0.047*\"watch\" + 0.044*\"step\" + 0.040*\"older\" + 0.040*\"birth\" + 0.033*\"breakfast\" + 0.028*\"chance\" + 0.021*\"veggies\" + 0.020*\"minutes\"\n",
      "\n",
      "\n",
      "Topic: 19 \n",
      "Words: 0.058*\"leave\" + 0.056*\"fear\" + 0.045*\"cover\" + 0.042*\"small\" + 0.040*\"push\" + 0.037*\"battle\" + 0.036*\"dementia\" + 0.036*\"send\" + 0.035*\"canada\" + 0.029*\"soda\"\n",
      "\n",
      "\n",
      "Topic: 20 \n",
      "Words: 0.147*\"rule\" + 0.051*\"social\" + 0.044*\"propose\" + 0.032*\"self\" + 0.030*\"force\" + 0.028*\"facebook\" + 0.028*\"inside\" + 0.027*\"animal\" + 0.025*\"reject\" + 0.025*\"decision\"\n",
      "\n",
      "\n",
      "Topic: 21 \n",
      "Words: 0.193*\"like\" + 0.096*\"fitness\" + 0.070*\"patient\" + 0.046*\"public\" + 0.026*\"worse\" + 0.025*\"quick\" + 0.024*\"military\" + 0.024*\"spot\" + 0.023*\"florida\" + 0.019*\"train\"\n",
      "\n",
      "\n",
      "Topic: 22 \n",
      "Words: 0.084*\"sleep\" + 0.076*\"tip\" + 0.067*\"surgery\" + 0.063*\"stress\" + 0.061*\"family\" + 0.034*\"protect\" + 0.031*\"season\" + 0.029*\"night\" + 0.024*\"trick\" + 0.022*\"late\"\n",
      "\n",
      "\n",
      "Topic: 23 \n",
      "Words: 0.085*\"experts\" + 0.054*\"recipe\" + 0.053*\"urge\" + 0.043*\"transplant\" + 0.039*\"follow\" + 0.038*\"video\" + 0.030*\"game\" + 0.030*\"access\" + 0.028*\"catch\" + 0.024*\"tool\"\n",
      "\n",
      "\n",
      "Topic: 24 \n",
      "Words: 0.135*\"year\" + 0.120*\"lose\" + 0.099*\"weight\" + 0.043*\"reason\" + 0.035*\"pound\" + 0.033*\"weightloss\" + 0.026*\"help\" + 0.022*\"diet\" + 0.021*\"clean\" + 0.021*\"bear\"\n",
      "\n",
      "\n",
      "Topic: 25 \n",
      "Words: 0.188*\"good\" + 0.080*\"pain\" + 0.071*\"morning\" + 0.065*\"pharma\" + 0.062*\"little\" + 0.030*\"half\" + 0.028*\"fruit\" + 0.026*\"headline\" + 0.021*\"percent\" + 0.018*\"model\"\n",
      "\n",
      "\n",
      "Topic: 26 \n",
      "Words: 0.160*\"heart\" + 0.103*\"risk\" + 0.047*\"lower\" + 0.039*\"reduce\" + 0.035*\"attack\" + 0.034*\"sugar\" + 0.031*\"disease\" + 0.026*\"daily\" + 0.021*\"shoot\" + 0.020*\"device\"\n",
      "\n",
      "\n",
      "Topic: 27 \n",
      "Words: 0.181*\"patients\" + 0.067*\"hospitals\" + 0.045*\"skin\" + 0.043*\"news\" + 0.036*\"doctor\" + 0.033*\"longer\" + 0.031*\"hold\" + 0.031*\"live\" + 0.031*\"feel\" + 0.028*\"rat\"\n",
      "\n",
      "\n",
      "Topic: 28 \n",
      "Words: 0.081*\"offer\" + 0.079*\"coverage\" + 0.072*\"miss\" + 0.056*\"pill\" + 0.039*\"double\" + 0.030*\"remain\" + 0.030*\"prescription\" + 0.028*\"deadline\" + 0.024*\"case\" + 0.023*\"approach\"\n",
      "\n",
      "\n",
      "Topic: 29 \n",
      "Words: 0.378*\"health\" + 0.118*\"care\" + 0.065*\"insurance\" + 0.036*\"mental\" + 0.035*\"million\" + 0.032*\"plan\" + 0.026*\"issue\" + 0.025*\"mean\" + 0.019*\"obama\" + 0.016*\"company\"\n",
      "\n",
      "\n",
      "Topic: 30 \n",
      "Words: 0.112*\"healthcare\" + 0.077*\"approve\" + 0.063*\"walk\" + 0.044*\"black\" + 0.029*\"impact\" + 0.027*\"firm\" + 0.026*\"dangerous\" + 0.025*\"painkiller\" + 0.024*\"powerful\" + 0.024*\"hours\"\n",
      "\n",
      "\n",
      "Topic: 31 \n",
      "Words: 0.053*\"screen\" + 0.046*\"burn\" + 0.037*\"insurers\" + 0.035*\"crisis\" + 0.034*\"record\" + 0.033*\"panel\" + 0.031*\"develop\" + 0.029*\"vote\" + 0.027*\"reveal\" + 0.024*\"evidence\"\n",
      "\n",
      "\n",
      "Topic: 32 \n",
      "Words: 0.092*\"boost\" + 0.051*\"open\" + 0.042*\"drop\" + 0.041*\"memory\" + 0.031*\"order\" + 0.030*\"struggle\" + 0.030*\"write\" + 0.030*\"ready\" + 0.027*\"quality\" + 0.025*\"slim\"\n",
      "\n",
      "\n",
      "Topic: 33 \n",
      "Words: 0.052*\"poor\" + 0.047*\"obese\" + 0.044*\"sweet\" + 0.038*\"biggest\" + 0.038*\"medicine\" + 0.037*\"experience\" + 0.033*\"north\" + 0.030*\"failure\" + 0.029*\"reform\" + 0.028*\"overweight\"\n",
      "\n",
      "\n",
      "Topic: 34 \n",
      "Words: 0.083*\"world\" + 0.075*\"americans\" + 0.059*\"house\" + 0.048*\"white\" + 0.045*\"human\" + 0.037*\"summer\" + 0.035*\"have\" + 0.032*\"vitamin\" + 0.031*\"happen\" + 0.029*\"choose\"\n",
      "\n",
      "\n",
      "Topic: 35 \n",
      "Words: 0.083*\"cost\" + 0.061*\"young\" + 0.057*\"free\" + 0.036*\"adults\" + 0.033*\"global\" + 0.026*\"slow\" + 0.024*\"docs\" + 0.021*\"bacteria\" + 0.019*\"relate\" + 0.018*\"gluten\"\n",
      "\n",
      "\n",
      "Topic: 36 \n",
      "Words: 0.100*\"home\" + 0.090*\"disease\" + 0.072*\"nurse\" + 0.040*\"delay\" + 0.036*\"science\" + 0.031*\"california\" + 0.030*\"play\" + 0.029*\"keep\" + 0.028*\"close\" + 0.027*\"despite\"\n",
      "\n",
      "\n",
      "Topic: 37 \n",
      "Words: 0.137*\"medical\" + 0.052*\"bird\" + 0.047*\"marijuana\" + 0.043*\"safe\" + 0.039*\"china\" + 0.035*\"try\" + 0.030*\"winter\" + 0.028*\"aren\" + 0.024*\"extra\" + 0.024*\"vaccines\"\n",
      "\n",
      "\n",
      "Topic: 38 \n",
      "Words: 0.082*\"make\" + 0.058*\"affect\" + 0.045*\"holiday\" + 0.040*\"explain\" + 0.032*\"sick\" + 0.029*\"snack\" + 0.028*\"fewer\" + 0.025*\"target\" + 0.023*\"condition\" + 0.021*\"campaign\"\n",
      "\n",
      "\n",
      "Topic: 39 \n",
      "Words: 0.234*\"cancer\" + 0.077*\"breast\" + 0.040*\"drug\" + 0.037*\"move\" + 0.033*\"autism\" + 0.029*\"workout\" + 0.028*\"pregnancy\" + 0.027*\"cure\" + 0.025*\"lung\" + 0.025*\"recall\"\n",
      "\n",
      "\n",
      "Topic: 40 \n",
      "Words: 0.055*\"therapy\" + 0.043*\"gene\" + 0.041*\"rare\" + 0.039*\"girl\" + 0.037*\"emergency\" + 0.035*\"label\" + 0.033*\"future\" + 0.025*\"room\" + 0.024*\"major\" + 0.023*\"worst\"\n",
      "\n",
      "\n",
      "Topic: 41 \n",
      "Words: 0.071*\"give\" + 0.068*\"challenge\" + 0.056*\"meet\" + 0.041*\"second\" + 0.039*\"beat\" + 0.033*\"cell\" + 0.028*\"survey\" + 0.027*\"stem\" + 0.024*\"prevention\" + 0.024*\"chief\"\n",
      "\n",
      "\n",
      "Topic: 42 \n",
      "Words: 0.105*\"medicare\" + 0.082*\"body\" + 0.052*\"yoga\" + 0.035*\"habit\" + 0.028*\"allergies\" + 0.026*\"race\" + 0.026*\"shape\" + 0.024*\"ideas\" + 0.024*\"pose\" + 0.023*\"muscle\"\n",
      "\n",
      "\n",
      "Topic: 43 \n",
      "Words: 0.152*\"know\" + 0.070*\"long\" + 0.060*\"treatment\" + 0.051*\"things\" + 0.043*\"head\" + 0.041*\"happy\" + 0.035*\"need\" + 0.029*\"advice\" + 0.027*\"light\" + 0.026*\"term\"\n",
      "\n",
      "\n",
      "Topic: 44 \n",
      "Words: 0.314*\"ebola\" + 0.031*\"control\" + 0.031*\"liberia\" + 0.027*\"patient\" + 0.025*\"say\" + 0.024*\"sierra\" + 0.023*\"leone\" + 0.023*\"hospital\" + 0.022*\"case\" + 0.020*\"workers\"\n",
      "\n",
      "\n",
      "Topic: 45 \n",
      "Words: 0.098*\"come\" + 0.067*\"data\" + 0.058*\"break\" + 0.052*\"likely\" + 0.039*\"post\" + 0.025*\"sport\" + 0.023*\"vegetarian\" + 0.023*\"enjoy\" + 0.023*\"subsidies\" + 0.022*\"thanksgiving\"\n",
      "\n",
      "\n",
      "Topic: 46 \n",
      "Words: 0.138*\"food\" + 0.090*\"foods\" + 0.043*\"eat\" + 0.034*\"call\" + 0.028*\"possible\" + 0.027*\"cold\" + 0.027*\"american\" + 0.027*\"government\" + 0.024*\"create\" + 0.020*\"fish\"\n",
      "\n",
      "\n",
      "Topic: 47 \n",
      "Words: 0.236*\"study\" + 0.103*\"find\" + 0.091*\"link\" + 0.040*\"brain\" + 0.036*\"say\" + 0.033*\"fall\" + 0.033*\"deaths\" + 0.026*\"alzheimer\" + 0.021*\"drug\" + 0.021*\"limit\"\n",
      "\n",
      "\n",
      "Topic: 48 \n",
      "Words: 0.125*\"change\" + 0.077*\"smoke\" + 0.053*\"pay\" + 0.046*\"suggest\" + 0.045*\"study\" + 0.034*\"cigarettes\" + 0.033*\"actually\" + 0.029*\"tobacco\" + 0.025*\"quit\" + 0.024*\"energy\"\n",
      "\n",
      "\n",
      "Topic: 49 \n",
      "Words: 0.107*\"death\" + 0.093*\"rise\" + 0.057*\"cause\" + 0.048*\"surprise\" + 0.035*\"toll\" + 0.027*\"harm\" + 0.025*\"claim\" + 0.021*\"damage\" + 0.021*\"business\" + 0.018*\"antibiotic\"\n",
      "\n",
      "\n"
     ]
    }
   ],
   "source": [
    "for idx, topic in lda_model.print_topics(-1):\n",
    "    print(\"Topic: {} \\nWords: {}\".format(idx, topic ))\n",
    "    print(\"\\n\")\n"
   ]
  },
  {
   "cell_type": "markdown",
   "metadata": {},
   "source": [
    "## Sample Weightloss Tweet to Identify Topic"
   ]
  },
  {
   "cell_type": "code",
   "execution_count": 137,
   "metadata": {},
   "outputs": [],
   "source": [
    "text = \"Losing weight starts with making these 17 fixes to your diet weightloss\""
   ]
  },
  {
   "cell_type": "code",
   "execution_count": 141,
   "metadata": {},
   "outputs": [
    {
     "data": {
      "text/plain": [
       "[(14, 0.13755393), (24, 0.6174417), (38, 0.12750115)]"
      ]
     },
     "execution_count": 141,
     "metadata": {},
     "output_type": "execute_result"
    }
   ],
   "source": [
    "# Data preprocessing step for the unseen document\n",
    "bow_vector = dictionary.doc2bow(preprocess(text))\n",
    "\n",
    "lda_model[bow_vector]"
   ]
  },
  {
   "cell_type": "markdown",
   "metadata": {},
   "source": [
    "## Weightloss Topic"
   ]
  },
  {
   "cell_type": "code",
   "execution_count": 143,
   "metadata": {},
   "outputs": [
    {
     "data": {
      "text/plain": [
       "'0.135*\"year\" + 0.120*\"lose\" + 0.099*\"weight\" + 0.043*\"reason\" + 0.035*\"pound\" + 0.033*\"weightloss\" + 0.026*\"help\" + 0.022*\"diet\" + 0.021*\"clean\" + 0.021*\"bear\"'"
      ]
     },
     "execution_count": 143,
     "metadata": {},
     "output_type": "execute_result"
    }
   ],
   "source": [
    "lda_model.print_topic(24, 10) "
   ]
  },
  {
   "cell_type": "code",
   "execution_count": null,
   "metadata": {},
   "outputs": [],
   "source": []
  }
 ],
 "metadata": {
  "kernelspec": {
   "display_name": "test-py3",
   "language": "python",
   "name": "test-py3"
  },
  "language_info": {
   "codemirror_mode": {
    "name": "ipython",
    "version": 3
   },
   "file_extension": ".py",
   "mimetype": "text/x-python",
   "name": "python",
   "nbconvert_exporter": "python",
   "pygments_lexer": "ipython3",
   "version": "3.6.5"
  }
 },
 "nbformat": 4,
 "nbformat_minor": 2
}
